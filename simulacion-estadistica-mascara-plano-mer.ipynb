{
 "cells": [
  {
   "cell_type": "markdown",
   "id": "fec61660",
   "metadata": {},
   "source": [
    "# En el siguiente notebook vamos a trabajar solo con la simulación, considerando el equivalente  a las 350  estrellas de los datos reales. Haremos un subsampleo considerando la mascara del plano galáctico, y diferentes 'seeds'"
   ]
  },
  {
   "cell_type": "code",
   "execution_count": null,
   "id": "9ea8a5e2",
   "metadata": {},
   "outputs": [],
   "source": [
    "import pandas as pd\n",
    "import numpy as np\n",
    "import matplotlib.pyplot as plt\n",
    "import astropy.coordinates as coord\n",
    "import astropy.units as u\n",
    "from astropy.io import ascii\n",
    "from astropy.coordinates import SkyCoord, CartesianRepresentation\n",
    "from astropy.wcs import WCS\n",
    "import gala.coordinates as gc\n",
    "import healpy as hp\n",
    "from pylab import cm\n",
    "import matplotlib as mpl\n",
    "from matplotlib.patches import Circle, PathPatch, Ellipse\n",
    "from healpy.newvisufunc import projview, newprojplot\n",
    "from mpl_toolkits.mplot3d import Axes3D\n",
    "from astropy.coordinates import cartesian_to_spherical\n",
    "from matplotlib.lines import Line2D\n",
    "from matplotlib.path import Path\n",
    "from matplotlib.legend_handler import HandlerTuple\n",
    "import datosCM\n",
    "import pymaster as nmt\n",
    "\n",
    "from matplotlib.patches import Rectangle"
   ]
  },
  {
   "cell_type": "code",
   "execution_count": null,
   "id": "5905e487",
   "metadata": {},
   "outputs": [],
   "source": [
    "from astropy.coordinates import SkyCoord\n",
    "\n",
    "def cat_to_hpx(lon, lat, nside, radec=False):   #radec=False: si vamos de cartesianas a esfericas galacticas\n",
    "    \"\"\"\n",
    "    Convierte un catálogo a un mapa HEALPix de densidad de número, es decir,\n",
    "    el número de estrellas por grado cuadrado de cielo.\n",
    "\n",
    "    Parámetros\n",
    "    ----------\n",
    "    lon, lat : (arreglo, arreglo)\n",
    "        Coordenadas de las fuentes en grados.\n",
    "        Si radec=True, asume que la entrada está en el sistema ICRS,\n",
    "        De lo contrario, asume que la entrada está en latitud y longitud galáctica.\n",
    "\n",
    "    nside : int\n",
    "        Número HEALPix nside del mapa de destino, define el número de píxeles.\n",
    "\n",
    "    radec : bool\n",
    "        Cambio entre Ra/Dec y l/b (galáctico) como sistema de coordenadas de entrada.\n",
    "\n",
    "    Return\n",
    "    ------\n",
    "    hpx_map : arreglo\n",
    "        Mapa HEALPix de los recuentos de número del catálogo en coordenadas galácticas\n",
    "    \"\"\"\n",
    "    npix = hp.nside2npix(nside)\n",
    "\n",
    "    if radec:\n",
    "        eq = SkyCoord(lon, lat, unit='deg')\n",
    "        l, b = eq.galactic.l.value, eq.galactic.b.value\n",
    "    else:\n",
    "        l, b = lon, lat\n",
    "\n",
    "    # OJO ACA  \n",
    "\n",
    "    theta = np.radians(90. - b)                 # latitud en radianes\n",
    "    phi = np.radians(l)               # longitud en radianes        \n",
    "    indices = hp.ang2pix(nside, theta, phi, lonlat=False)  \n",
    "\n",
    "\n",
    "    indx, counts = np.unique(indices, return_counts=True)\n",
    "\n",
    "    # llenar el mapa de cielo completo\n",
    "    hpx_map = np.zeros(npix, dtype=int)\n",
    "    hpx_map[indx] = counts\n",
    "\n",
    "    return hpx_map\n"
   ]
  },
  {
   "cell_type": "code",
   "execution_count": null,
   "id": "44051ddb",
   "metadata": {},
   "outputs": [],
   "source": [
    "fwhm2sigma = lambda fwhm: fwhm / np.sqrt(8*np.log(2))\n"
   ]
  },
  {
   "cell_type": "markdown",
   "id": "2d4fc6b7",
   "metadata": {},
   "source": [
    "# Parámetros a usar "
   ]
  },
  {
   "cell_type": "code",
   "execution_count": null,
   "id": "660bcf4b",
   "metadata": {},
   "outputs": [],
   "source": [
    "nside=128\n",
    "lmax=3*nside-1\n",
    "#lmax=47\n",
    "espesor=5 #kpc\n",
    "radio=70 #kpc\n",
    "\n",
    "radio_min=radio-espesor/2\n",
    "radio_max=radio+espesor/2"
   ]
  },
  {
   "cell_type": "markdown",
   "id": "4112e732",
   "metadata": {},
   "source": [
    "# Leyendo los datos de la simulación "
   ]
  },
  {
   "cell_type": "code",
   "execution_count": null,
   "id": "65ca93fa",
   "metadata": {},
   "outputs": [],
   "source": [
    "#lectura de datos\n",
    "\n",
    "simu = pd.read_csv('rand_mwlmc5b0_110.txt', sep=' ',names=['x','y','z','vx', 'vy', 'vz'])\n",
    "\n",
    "#simu = pd.read_csv('/home/marz/Dropbox/PlanAB/gkrr/Wake/notebooks wake simu/rand_mwlmc5b0_110.txt', sep=' ',\n",
    "#                  names=['x','y','z','vx', 'vy', 'vz'])\n",
    "\n",
    "#mc = pd.read_csv('/content/drive/MyDrive/rand_mwb1_110.txt', sep=' ',\n",
    "                  #names=['x','y','z','vx', 'vy', 'vz'])\n",
    "#pd.DataFrame(mc)\n",
    "\n",
    "# con x,y,z en kpc y vx, vy, vz en km/s\n",
    "\n",
    "simu"
   ]
  },
  {
   "cell_type": "markdown",
   "id": "5bfc0521",
   "metadata": {},
   "source": [
    "## Cálculo de las coordenadas $r,\\theta, \\phi$ con ```astropy```"
   ]
  },
  {
   "cell_type": "code",
   "execution_count": null,
   "id": "7b9247d2",
   "metadata": {},
   "outputs": [],
   "source": [
    "from astropy.coordinates import cartesian_to_spherical\n",
    "\n",
    "x = simu['x'].values #* u.Mpc\n",
    "y = simu['y'].values #* u.Mpc\n",
    "z = simu['z'].values #* u.Mpc\n",
    "\n",
    "#\n",
    "spherical_coords = cartesian_to_spherical(x, y, z)\n",
    "\n",
    "#\n",
    "r = spherical_coords[0]#.to(u.Mpc, equivalencies=u.dimensionless_angles()).value\n",
    "theta = spherical_coords[1].to(u.rad).value\n",
    "phi = spherical_coords[2].to(u.rad).value\n",
    "phi2 = spherical_coords[2].to(u.degree).value\n",
    "\n",
    "# Añadir los resultados de nuevo al DataFrame\n",
    "simu['R'] = r                #kpc\n",
    "simu['theta'] = theta        #rad\n",
    "simu['phi'] = phi            #rad\n",
    "simu['phi2'] = phi2         # en grados\n",
    "simu['cotheta'] = np.pi/2 - theta          #rad\n",
    "\n",
    "simu"
   ]
  },
  {
   "cell_type": "markdown",
   "id": "ddee228c",
   "metadata": {},
   "source": [
    "# Primero sobre toda la simuladión con máscara pero sin condición de distancia"
   ]
  },
  {
   "cell_type": "code",
   "execution_count": null,
   "id": "f82bfb5b",
   "metadata": {},
   "outputs": [],
   "source": [
    "# Convertir coordenadas esféricas a galácticas\n",
    "\n",
    "l_deg = np.degrees(phi)\n",
    "b_deg = np.degrees(theta)\n",
    "\n",
    "# OJO AQUI. cat_to_hpx espera el mapa en grados, no en radianes\n",
    "mapa_simu = cat_to_hpx(l_deg, b_deg, nside=nside, radec=False)\n",
    "mapa_simu_mean = mapa_simu.mean()\n",
    "#sobredensidad (no suavizado)\n",
    "sobre_simu = (mapa_simu - mapa_simu_mean) / mapa_simu_mean\n"
   ]
  },
  {
   "cell_type": "code",
   "execution_count": null,
   "id": "6ba3cd82",
   "metadata": {},
   "outputs": [],
   "source": [
    "l_sim = coord.Angle(simu['phi'].values*180/np.pi*u.degree)\n",
    "l_sim = l_sim.wrap_at(180*u.degree)\n",
    "b_sim = coord.Angle(simu['theta'].values*180/np.pi*u.degree)\n",
    "\n",
    "simulacion= SkyCoord(l=l_sim, b=b_sim, frame='galactic')\n",
    "ipix_simulacion = hp.ang2pix(nside, np.pi/2- simulacion.galactic.b.radian, simulacion.galactic.l.radian)"
   ]
  },
  {
   "cell_type": "code",
   "execution_count": null,
   "id": "8054f755",
   "metadata": {},
   "outputs": [],
   "source": [
    "#sobredensidad (no suavizado)\n",
    "l = simulacion.galactic.l.degree\n",
    "b = simulacion.galactic.b.degree\n",
    "mapa_simulacion = cat_to_hpx(l, b, nside=nside, radec=False)\n",
    "mapa_simulacion_mean = mapa_simulacion.mean()\n",
    "mapa_simulacion = (mapa_simulacion - mapa_simulacion_mean) / mapa_simulacion_mean\n",
    "\n",
    "# Suavizar el mapa SOLO para visualización\n",
    "mapa_simulacion_smooth= hp.sphtfunc.smoothing(mapa_simulacion, sigma=np.radians(fwhm2sigma(30)))\n",
    "\n",
    "# Crear máscara del plano galáctico |b| < 10°\n",
    "xg, yg = np.meshgrid(\n",
    "    np.pi/2 - np.linspace(np.radians(-10), np.radians(10), 10000),\n",
    "    np.linspace(0, 2*np.pi, 10000)\n",
    ")\n",
    "mask = hp.ang2pix(nside, xg, yg)\n",
    "\n",
    "# Crear copia enmascarada del mapa suavizado solo\n",
    "mapa_simulacion_smooth_masked = mapa_simulacion_smooth.copy()\n",
    "mapa_simulacion_smooth_masked[mask] = 0\n",
    "\n",
    "# Crear copia enmascarada del mapa NO suavizado (para calculos  de alm y cls)\n",
    "mapa_simulacion_masked = mapa_simulacion.copy()\n",
    "mapa_simulacion_masked[mask] = 0\n",
    "# \n",
    "fig = plt.figure(figsize=(9, 5))\n",
    "ax = fig.add_subplot()\n",
    "\n",
    "mmin, mmax = np.min(mapa_simulacion_smooth_masked[np.isfinite(mapa_simulacion_smooth_masked)]), np.max(mapa_simulacion_smooth_masked[np.isfinite(mapa_simulacion_smooth_masked)])\n",
    "\n",
    "hp.mollview(mapa_simulacion_smooth_masked, title='Mapa de sobredensidad simulación', \n",
    "            unit=r\"$\\Delta \\rho /\\ \\bar{\\rho}$\",  cbar=True, flip='astro', hold=True) \n",
    "\n",
    "plt.tight_layout()\n",
    "plt.savefig('mapa_simulacion_smooth_masked_'+str(radio)+'.pdf')\n",
    "plt.show()\n"
   ]
  },
  {
   "cell_type": "markdown",
   "id": "2065f8d2",
   "metadata": {},
   "source": [
    "# Para los Cls"
   ]
  },
  {
   "cell_type": "code",
   "execution_count": null,
   "id": "48a0fec6",
   "metadata": {},
   "outputs": [],
   "source": [
    "cl_simu=hp.anafast(mapa_simulacion_masked, alm=True,lmax=lmax, pol=False)"
   ]
  },
  {
   "cell_type": "code",
   "execution_count": null,
   "id": "2278ea8b",
   "metadata": {},
   "outputs": [],
   "source": [
    "len(cl_simu[0])"
   ]
  },
  {
   "cell_type": "code",
   "execution_count": null,
   "id": "bbf8bfd0",
   "metadata": {},
   "outputs": [],
   "source": [
    "fig, ax = plt.subplots(1,2, figsize=(8,4))\n",
    "fig.suptitle('Simulation: Power Spectra, all stars')\n",
    "\n",
    "ells = np.arange(lmax + 1)\n",
    "\n",
    "\n",
    "ax[0].plot(ells, cl_simu[0][:lmax + 1], \n",
    "         label=\"$C_{\\ell}$ Simu\", marker=\"o\", linestyle=\"--\", color='blue', alpha=0.7)\n",
    "ax[0].set_xlabel('$\\ell$')\n",
    "ax[0].set_xlim(-1,15)\n",
    "ax[0].set_ylabel('$C_{\\ell}$')\n",
    "ax[0].set_ylim(-0.001, 0.08)\n",
    "ax[0].legend()\n",
    "\n",
    "ax[1].plot(ells, (2*ells +1)*cl_simu[0][:lmax + 1], \n",
    "         label=\"$(2 \\ell +1) C_{\\ell}$ Simu \", marker=\"o\", linestyle=\"--\", color='red', alpha=0.7)\n",
    "ax[1].set_xlabel('$\\ell$')\n",
    "ax[1].set_xlim(-1,15)\n",
    "ax[1].set_ylabel('$(2 \\ell +1) C_{\\ell}$')\n",
    "ax[1].set_ylim(-0.005, 0.20)\n",
    "ax[1].legend()\n",
    "\n",
    "#plt.savefig('cl_sobre_simu_'+str(radio)+'.pdf') \n",
    "plt.tight_layout()\n",
    "plt.show()\n",
    "\n"
   ]
  },
  {
   "cell_type": "markdown",
   "id": "d75d0754",
   "metadata": {},
   "source": [
    "### Condición para un anillo de 70 kpc $\\pm$ 5 kpc "
   ]
  },
  {
   "cell_type": "code",
   "execution_count": null,
   "id": "623356de",
   "metadata": {},
   "outputs": [],
   "source": [
    "simu['vr'] = np.sin(simu['cotheta']) * np.cos(simu['phi'])* simu['vx'] + np.sin(simu['cotheta']) * np.sin(simu['phi']) * simu['vy'] + np.cos(simu['cotheta']) * simu['vz']\n",
    "simu['vtheta'] = np.cos(simu['cotheta'])* np.cos(simu['phi']) * simu['vx'] + np.sin(simu['phi']) * np.cos(simu['cotheta']) * simu['vy'] - np.sin(simu['cotheta']) * simu['vz']\n",
    "simu['vphi'] =  ( np.sin(simu['phi'])) * simu['vx'] -  np.cos(simu['phi']) * simu['vy']\n",
    "\n",
    "simu_condicion70=simu[(simu['R']<radio_max) & (simu['R']>radio_min)]\n",
    "simu_condicion70.reset_index(drop=True, inplace=True)\n",
    "print(len(simu_condicion70))\n",
    "\n",
    "simu_condicion70"
   ]
  },
  {
   "cell_type": "code",
   "execution_count": null,
   "id": "005ed024",
   "metadata": {},
   "outputs": [],
   "source": [
    "# Convertir coordenadas esféricas a galácticas\n",
    "\n",
    "l_deg = np.degrees(phi)\n",
    "b_deg = np.degrees(theta)\n",
    "\n",
    "# OJO AQUI. cat_to_hpx espera el mapa en grados, no en radianes\n",
    "mapa_simu = cat_to_hpx(l_deg, b_deg, nside=nside, radec=False)\n",
    "mapa_simu_mean = mapa_simu.mean()\n",
    "#sobredensidad (no suavizado)\n",
    "sobre70_simu = (mapa_simu - mapa_simu_mean) / mapa_simu_mean\n",
    "\n",
    "\n"
   ]
  },
  {
   "cell_type": "code",
   "execution_count": null,
   "id": "14ce87c4",
   "metadata": {},
   "outputs": [],
   "source": [
    "l_sim = coord.Angle(simu_condicion70['phi'].values*180/np.pi*u.degree)\n",
    "l_sim = l_sim.wrap_at(180*u.degree)\n",
    "b_sim = coord.Angle(simu_condicion70['theta'].values*180/np.pi*u.degree)\n",
    "\n",
    "simulacion= SkyCoord(l=l_sim, b=b_sim, frame='galactic')\n",
    "ipix_simulacion = hp.ang2pix(nside, np.pi/2- simulacion.galactic.b.radian, simulacion.galactic.l.radian)"
   ]
  },
  {
   "cell_type": "code",
   "execution_count": null,
   "id": "8b76b629",
   "metadata": {},
   "outputs": [],
   "source": [
    "#sobredensidad (no suavizado)\n",
    "l = simulacion.galactic.l.degree\n",
    "b = simulacion.galactic.b.degree\n",
    "mapa_simulacion = cat_to_hpx(l, b, nside=nside, radec=False)\n",
    "mapa_simulacion_mean = mapa_simulacion.mean()\n",
    "mapa_simulacion = (mapa_simulacion - mapa_simulacion_mean) / mapa_simulacion_mean\n",
    "\n",
    "# Suavizar el mapa SOLO para visualización\n",
    "mapa_simulacion_smooth= hp.sphtfunc.smoothing(mapa_simulacion, sigma=np.radians(fwhm2sigma(30)))\n",
    "\n",
    "# Crear máscara del plano galáctico |b| < 10°\n",
    "xg, yg = np.meshgrid(\n",
    "    np.pi/2 - np.linspace(np.radians(-10), np.radians(10), 10000),\n",
    "    np.linspace(0, 2*np.pi, 10000)\n",
    ")\n",
    "mask = hp.ang2pix(nside, xg, yg)\n",
    "\n",
    "# Crear copia enmascarada del mapa suavizado solo\n",
    "mapa_simulacion_smooth_masked = mapa_simulacion_smooth.copy()\n",
    "mapa_simulacion_smooth_masked[mask] = 0\n",
    "\n",
    "# Crear copia enmascarada del mapa NO suavizado (para calculos  de alm y cls)\n",
    "mapa_simulacion_masked = mapa_simulacion.copy()\n",
    "mapa_simulacion_masked[mask] = 0\n",
    "# \n",
    "fig = plt.figure(figsize=(9, 5))\n",
    "ax = fig.add_subplot()\n",
    "\n",
    "mmin, mmax = np.min(mapa_simulacion_smooth_masked[np.isfinite(mapa_simulacion_smooth_masked)]), np.max(mapa_simulacion_smooth_masked[np.isfinite(mapa_simulacion_smooth_masked)])\n",
    "\n",
    "hp.mollview(mapa_simulacion_smooth_masked, title='Mapa de sobredensidad simulación', \n",
    "            unit=r\"$\\Delta \\rho /\\ \\bar{\\rho}$\",  cbar=True, flip='astro', hold=True) \n",
    "\n",
    "plt.tight_layout()\n",
    "plt.savefig('mapa_simulacion_smooth_masked_'+str(radio)+'.pdf')\n",
    "plt.show()\n"
   ]
  },
  {
   "cell_type": "code",
   "execution_count": null,
   "id": "8a8166da",
   "metadata": {},
   "outputs": [],
   "source": [
    "cl_simu70 = hp.anafast(mapa_simulacion_masked, lmax=lmax, alm=True, pol=False)\n",
    "print(len(cl_simu70[0]))"
   ]
  },
  {
   "cell_type": "code",
   "execution_count": null,
   "id": "058e49be",
   "metadata": {},
   "outputs": [],
   "source": [
    "fig, ax = plt.subplots(1,2, figsize=(8,4))\n",
    "fig.suptitle('Simulation: Power Spectra,  ('+str(radio)+')')\n",
    "\n",
    "ells = np.arange(lmax + 1)\n",
    "\n",
    "\n",
    "ax[0].plot(ells, cl_simu70[0][:lmax + 1], \n",
    "         label=\"$C_{\\ell}$ Simu\", marker=\"o\", linestyle=\"--\", color='blue', alpha=0.7)\n",
    "ax[0].set_xlabel('$\\ell$')\n",
    "ax[0].set_xlim(-1,15)\n",
    "ax[0].set_ylabel('$C_{\\ell}$')\n",
    "ax[0].set_ylim(-0.001, 0.04)\n",
    "ax[0].legend()\n",
    "\n",
    "ax[1].plot(ells, (2*ells +1)*cl_simu70[0][:lmax + 1], \n",
    "         label=\"$(2 \\ell +1) C_{\\ell}$ Simu \", marker=\"o\", linestyle=\"--\", color='red', alpha=0.7)\n",
    "ax[1].set_xlabel('$\\ell$')\n",
    "ax[1].set_xlim(-1,15)\n",
    "ax[1].set_ylabel('$(2 \\ell +1) C_{\\ell}$')\n",
    "ax[1].set_ylim(-0.005, 0.14)\n",
    "ax[1].legend()\n",
    "\n",
    "#plt.savefig('cl_sobre_simu_'+str(radio)+'.pdf') \n",
    "plt.tight_layout()\n",
    "plt.show()\n",
    "\n"
   ]
  },
  {
   "cell_type": "markdown",
   "id": "8b69bff0",
   "metadata": {},
   "source": [
    "# Para el muestreo aleatorio"
   ]
  },
  {
   "cell_type": "code",
   "execution_count": null,
   "id": "f0332d7a",
   "metadata": {},
   "outputs": [],
   "source": [
    "simu_sample = simu_condicion70.sample(n=2150,random_state=250)\n",
    "simu_sample.reset_index(drop=True, inplace=True)\n",
    "simu_sample"
   ]
  },
  {
   "cell_type": "code",
   "execution_count": null,
   "id": "830b67e0",
   "metadata": {},
   "outputs": [],
   "source": [
    "l_sim = coord.Angle(simu_sample['phi'].values*180/np.pi*u.degree)\n",
    "l_sim = l_sim.wrap_at(180*u.degree)\n",
    "b_sim = coord.Angle(simu_sample['theta'].values*180/np.pi*u.degree)\n",
    "\n",
    "simulacion= SkyCoord(l=l_sim, b=b_sim, frame='galactic')\n",
    "ipix_simulacion = hp.ang2pix(nside, np.pi/2- simulacion.galactic.b.radian, simulacion.galactic.l.radian)"
   ]
  },
  {
   "cell_type": "markdown",
   "id": "7a3f11df",
   "metadata": {},
   "source": [
    "## Usando la mascara. Sobredensidad:"
   ]
  },
  {
   "cell_type": "code",
   "execution_count": null,
   "id": "3a581d0a",
   "metadata": {},
   "outputs": [],
   "source": [
    "#sobredensidad (no suavizado)\n",
    "l = simulacion.galactic.l.degree\n",
    "b = simulacion.galactic.b.degree\n",
    "mapa_simulacion = cat_to_hpx(l, b, nside=nside, radec=False)\n",
    "mapa_simulacion_mean = mapa_simulacion.mean()\n",
    "mapa_simulacion = (mapa_simulacion - mapa_simulacion_mean) / mapa_simulacion_mean\n",
    "\n",
    "# Suavizar el mapa SOLO para visualización\n",
    "mapa_simulacion_smooth= hp.sphtfunc.smoothing(mapa_simulacion, sigma=np.radians(fwhm2sigma(30)))\n",
    "\n",
    "# Crear máscara del plano galáctico |b| < 10°\n",
    "xg, yg = np.meshgrid(\n",
    "    np.pi/2 - np.linspace(np.radians(-10), np.radians(10), 10000),\n",
    "    np.linspace(0, 2*np.pi, 10000)\n",
    ")\n",
    "mask = hp.ang2pix(nside, xg, yg)\n",
    "\n",
    "# Crear copia enmascarada del mapa suavizado solo\n",
    "mapa_simulacion_smooth_masked = mapa_simulacion_smooth.copy()\n",
    "mapa_simulacion_smooth_masked[mask] = 0\n",
    "\n",
    "# Crear copia enmascarada del mapa NO suavizado (para calculos  de alm y cls)\n",
    "mapa_simulacion_masked = mapa_simulacion.copy()\n",
    "mapa_simulacion_masked[mask] = 0\n",
    "# \n",
    "fig = plt.figure(figsize=(9, 5))\n",
    "ax = fig.add_subplot()\n",
    "\n",
    "mmin, mmax = np.min(mapa_simulacion_smooth_masked[np.isfinite(mapa_simulacion_smooth_masked)]), np.max(mapa_simulacion_smooth_masked[np.isfinite(mapa_simulacion_smooth_masked)])\n",
    "\n",
    "hp.mollview(mapa_simulacion_smooth_masked, title='Mapa de sobredensidad simulación', \n",
    "            unit=r\"$\\Delta \\rho /\\ \\bar{\\rho}$\",  cbar=True, flip='astro', hold=True) \n",
    "\n",
    "plt.tight_layout()\n",
    "plt.savefig('mapa_simulacion_smooth_masked_'+str(radio)+'.pdf')\n",
    "plt.show()\n"
   ]
  },
  {
   "cell_type": "code",
   "execution_count": null,
   "id": "7241e73f",
   "metadata": {},
   "outputs": [],
   "source": [
    "mask_fuera_plano = np.abs(b) >= 10\n",
    "print(f\"Estrellas fuera del plano: {np.sum(mask_fuera_plano)} / {len(simulacion)}\")\n",
    "print(\"estrellas disponibles: \", len(simulacion) - np.sum(mask_fuera_plano))"
   ]
  },
  {
   "cell_type": "markdown",
   "id": "34912ce8",
   "metadata": {},
   "source": [
    "## Para un solo submuestreo"
   ]
  },
  {
   "cell_type": "code",
   "execution_count": null,
   "id": "37f9559f",
   "metadata": {},
   "outputs": [],
   "source": [
    "cl_simu70_sub = hp.anafast(mapa_simulacion_masked, alm=True, lmax=lmax)"
   ]
  },
  {
   "cell_type": "code",
   "execution_count": null,
   "id": "51e91d8d",
   "metadata": {},
   "outputs": [],
   "source": [
    "fig, ax = plt.subplots(1,2, figsize=(8,4))\n",
    "fig.suptitle('Simulation: Power Spectra,  ('+str(radio)+') kpc')\n",
    "\n",
    "ells = np.arange(lmax + 1)\n",
    "\n",
    "\n",
    "ax[0].plot(ells, cl_simu70_sub[0][:lmax + 1], \n",
    "         label=\"$C_{\\ell}$ Simu\", marker=\"o\", linestyle=\"--\", color='blue', alpha=0.7)\n",
    "ax[0].set_xlabel('$\\ell$')\n",
    "ax[0].set_xlim(0, 15)\n",
    "ax[0].set_ylabel('$C_{\\ell}$')\n",
    "ax[0].set_ylim(0, 0.04)\n",
    "\n",
    "ax[1].plot(ells, (2*ells +1)*cl_simu70_sub[0][:lmax + 1], \n",
    "         label=\"$(2 \\ell +1) C_{\\ell}$ Simu \", marker=\"o\", linestyle=\"--\", color='red', alpha=0.7)\n",
    "ax[1].set_xlabel('$\\ell$')\n",
    "ax[1].set_xlim(0, 15)\n",
    "ax[1].set_ylabel('$(2 \\ell +1) C_{\\ell}$')\n",
    "ax[1].set_ylim(0, 0.15)\n",
    "ax[1].legend()\n",
    "\n",
    "plt.tight_layout()\n",
    "\n",
    "plt.show()\n",
    "\n"
   ]
  },
  {
   "cell_type": "code",
   "execution_count": null,
   "id": "ed9ddd81",
   "metadata": {},
   "outputs": [],
   "source": [
    "N = 1000  # numero de submuestreos\n",
    "n_muestreo = 2150\n",
    "\n",
    "cls_all = []\n",
    "\n",
    "# mascara del plano \n",
    "xg, yg = np.meshgrid(\n",
    "    np.pi/2 - np.linspace(np.radians(-10), np.radians(10), 10000),\n",
    "    np.linspace(0, 2*np.pi, 10000)\n",
    ")\n",
    "mask_pix = hp.ang2pix(nside, xg, yg)\n",
    "\n",
    "for seed in range(N):\n",
    "    # para el submuestreo aleatorio\n",
    "    simu_sample = simu_condicion70.sample(n=n_muestreo, random_state=seed).reset_index(drop=True)\n",
    "\n",
    "    # de radianes a grados l y b \n",
    "    l_sim = coord.Angle(simu_sample['phi'].values * 180/np.pi * u.deg).wrap_at(180 * u.deg)\n",
    "    b_sim = coord.Angle(simu_sample['theta'].values * 180/np.pi * u.deg)\n",
    "    simulacion = SkyCoord(l=l_sim, b=b_sim, frame='galactic')\n",
    "    l = simulacion.galactic.l.degree\n",
    "    b = simulacion.galactic.b.degree\n",
    "\n",
    "    # mapa de sobredensidad\n",
    "    mapa = cat_to_hpx(l, b, nside=nside, radec=False)\n",
    "    mapa_mean = mapa.mean()\n",
    "    mapa = (mapa - mapa_mean) / mapa_mean\n",
    "\n",
    "    # usando la mascarA\n",
    "    mapa_masked = mapa.copy()\n",
    "    mapa_masked[mask_pix] = 0\n",
    "\n",
    "    # Calcular Cl y alm\n",
    "    cl, alm = hp.anafast(mapa_masked, alm=True, lmax=lmax)\n",
    "    cls_all.append(cl)\n",
    "\n",
    "# Convertir a array y calcular estadística\n",
    "cls_all = np.array(cls_all)\n",
    "ell = np.arange(cls_all.shape[1])\n",
    "cl_mean = np.mean(cls_all, axis=0)\n",
    "cl_std = np.std(cls_all, axis=0)\n"
   ]
  },
  {
   "cell_type": "code",
   "execution_count": null,
   "id": "2237f455",
   "metadata": {},
   "outputs": [],
   "source": [
    "print(cls_all.shape)\n",
    "print(ell.shape)\n",
    "print(cl_mean.shape)\n",
    "print(cl_std.shape)"
   ]
  },
  {
   "cell_type": "code",
   "execution_count": null,
   "id": "5648f15b",
   "metadata": {},
   "outputs": [],
   "source": [
    "\n",
    "fig, ax = plt.subplots(1,2, figsize=(8,4))\n",
    "fig.suptitle('Simulation: Power Spectra,  ('+str(radio)+') kpc')\n",
    "\n",
    "ells = np.arange(lmax + 1)\n",
    "\n",
    "ax[0].plot(ells, cl_mean, marker=\"o\",  color='magenta', alpha=0.6,lw=2.5,label=r\"$\\langle C_{\\ell} \\rangle $ subsample N=\"+str(N))\n",
    "ax[0].fill_between(ell, cl_mean - cl_std, cl_mean + cl_std, color='grey', alpha=0.2, label=r\"$\\pm 1\\sigma$\")\n",
    "#ax[0].bar(ell, cl_mean, yerr=cl_std, align='center', alpha=0.1, ecolor='black', capsize=1)\n",
    "# Solo los puntos con barra de error\n",
    "ax[0].errorbar(ell, cl_mean, yerr=cl_std, fmt='o-', color='orange',alpha=0.2,\n",
    "             ecolor='black', capsize=3, label=r\"\")\n",
    "\n",
    "ax[0].plot(ells, cl_simu70_sub[0][:lmax + 1], \n",
    "         label=\"$C_{\\ell}$ Simu\", marker=\"o\", linestyle=\"--\", color='blue', alpha=0.7)\n",
    "\n",
    "ax[0].set_xlabel('$\\ell$')\n",
    "ax[0].set_xlim(-1, 20)\n",
    "ax[0].set_ylabel('$C_{\\ell}$')\n",
    "ax[0].set_ylim(-0.001, 0.06)\n",
    "ax[0].legend()\n",
    "\n",
    "\n",
    "cl_mean_weighted = (2 * ell + 1) * cl_mean\n",
    "ax[1].plot(ells, (2*ells +1)*cl_mean,\n",
    "          marker=\"o\", linestyle=\"--\", color='cyan', alpha=0.6, lw=2.5,label=r\"$ (2 \\ell +1) \\langle C_{\\ell} \\rangle$ Subsample N=\"+str(N))\n",
    "ax[1].fill_between(ell, (2*ells +1)*(cl_mean - cl_std), (2*ells +1)*(cl_mean + cl_std), color='grey', alpha=0.2, label=r\"$\\pm 1 \\sigma$ not scaled \")\n",
    "ax[1].errorbar(ell, (2 * ell + 1)*cl_mean , yerr=(2 * ell + 1) *cl_std , fmt='o-', color='blue', alpha=0.2,\n",
    "             ecolor='black', capsize=3, label=r\"by $(2\\ell +1)$\")\n",
    "\n",
    "ax[1].plot(ells, (2*ells +1)*cl_simu70_sub[0][:lmax + 1], \n",
    "         label=\"$(2 \\ell +1) C_{\\ell}$ Simu \", marker=\"o\", linestyle=\"--\", color='red', alpha=0.7)\n",
    "\n",
    "ax[1].set_xlabel('$\\ell$')\n",
    "ax[1].set_xlim(-1, 20)\n",
    "ax[1].set_ylabel('$(2 \\ell +1) C_{\\ell}$')\n",
    "ax[1].set_ylim(-0.008, 0.3)\n",
    "ax[1].legend()\n",
    "\n",
    "plt.tight_layout()\n",
    "plt.show()\n",
    "\n"
   ]
  },
  {
   "cell_type": "code",
   "execution_count": null,
   "id": "8f2a4c03",
   "metadata": {},
   "outputs": [],
   "source": [
    "\n",
    "fig, ax = plt.subplots(1,2, figsize=(8,4))\n",
    "fig.suptitle('Simulation: Power Spectra,  ('+str(radio)+') kpc', fontsize=16)\n",
    "\n",
    "ells = np.arange(lmax + 1)\n",
    "\n",
    "\n",
    "ax[0].plot(ells, cl_mean, marker=\"o\",  color='magenta', alpha=0.5,lw=2.5,label=r\"$\\langle C_{\\ell} \\rangle $ subsample N=100\")\n",
    "ax[0].fill_between(ell, cl_mean - cl_std, cl_mean + cl_std, color='grey', alpha=0.1, label=r\"$\\pm 1\\sigma$\")\n",
    "#ax[0].bar(ell, cl_mean, yerr=cl_std, align='center', alpha=0.1, ecolor='black', capsize=1)\n",
    "# Solo los puntos con barra de error\n",
    "ax[0].errorbar(ell, cl_mean, yerr=cl_std, fmt='o-', color='orange',alpha=0.2,\n",
    "             ecolor='black', capsize=3, label=r\"\")\n",
    "ax[0].set_xlabel(r'$\\ell$')\n",
    "ax[0].set_xlim(-1, 15)\n",
    "ax[0].set_ylabel(r'$C_{\\ell}$')\n",
    "ax[0].set_ylim(-0.001, 0.06)\n",
    "ax[0].legend()\n",
    "\n",
    "\n",
    "cl_mean_weighted = (2 * ell + 1) * cl_mean\n",
    "cl_std_weighted = (2 * ell + 1) * cl_std\n",
    "\n",
    "ax[1].plot(ell, cl_mean_weighted,color='cyan',alpha=0.7,marker='o',label=r\"$\\langle C_{\\ell} \\rangle $ Subsample N=100\")\n",
    "ax[1].fill_between(ell, cl_mean_weighted - cl_std_weighted,\n",
    "                        cl_mean_weighted + cl_std_weighted,\n",
    "                        color='grey', alpha=0.1, lw=2.5, label=r\"$\\pm 1\\sigma$ scaled \")\n",
    "ax[1].errorbar(ell, cl_mean_weighted , yerr=cl_std_weighted , fmt='o-', color='blue', alpha=0.2,\n",
    "             ecolor='black', capsize=3, label=r\"by $(2\\ell +1)$\")\n",
    "ax[1].set_xlabel(r'$\\ell$')\n",
    "ax[1].set_ylabel(r'$(2 \\ell +1) C_{\\ell}$')\n",
    "ax[1].legend()\n",
    "ax[1].set_xlim(-1, 15)\n",
    "ax[1].set_ylim(-0.008, 0.3)\n",
    "plt.tight_layout()\n",
    "plt.show()\n"
   ]
  },
  {
   "cell_type": "markdown",
   "id": "dc0c1315",
   "metadata": {},
   "source": [
    "## Para el cálculo del chi2"
   ]
  },
  {
   "cell_type": "code",
   "execution_count": null,
   "id": "8def66fd",
   "metadata": {},
   "outputs": [],
   "source": [
    "print(len(cl_simu70[0]), len(cl_mean), len(cl_std))"
   ]
  },
  {
   "cell_type": "code",
   "execution_count": null,
   "id": "69e8bb5a",
   "metadata": {},
   "outputs": [],
   "source": [
    "#cl:simu70 espectro 'observado' \n",
    "#cl_mean espectro modelo, la prediccion en base a los submuestreos\n",
    "# cl_std incertidumbre de este modelo \n",
    "\n",
    "#  chi2\n",
    "chi2 = np.sum((cl_simu70[0] - cl_mean[0])**2 / cl_std[0]**2)\n",
    "\n",
    "# Grados de libertad (num de multipolos - 1)\n",
    "dof = len(cl_mean) - 1\n",
    "\n",
    "# Chi2 reducido\n",
    "chi2_red = chi2 / dof\n",
    "\n",
    "\n",
    "print(\"Chi-cuadrado total: \", chi2)\n",
    "print(\"Chi-cuadrado reducido: \", chi2_red)\n"
   ]
  },
  {
   "cell_type": "markdown",
   "id": "8f31c9bf",
   "metadata": {},
   "source": [
    "# Guardar todos los Cls en un df:"
   ]
  },
  {
   "cell_type": "code",
   "execution_count": null,
   "id": "891b0ef8",
   "metadata": {},
   "outputs": [],
   "source": [
    "# Escalado (2l + 1)\n",
    "ell = ells  # array de multipolos\n",
    "\n",
    "cl_mean_scaled  = (2 * ell + 1) * cl_mean\n",
    "cl_simu70_scaled = (2 * ell + 1) * cl_simu70[0]\n",
    "cl_simu_scaled = (2 * ell + 1) * cl_simu[0]\n",
    "cl_std_scaled = (2 * ell + 1) * cl_std\n",
    "\n",
    "# df\n",
    "df_cls_simu = pd.DataFrame({\n",
    "    'ell': ell,\n",
    "    'cl_mean': cl_mean,\n",
    "    'cl_std': cl_std,\n",
    "    'cl_simu70': cl_simu70[0],\n",
    "    'cl_simu': cl_simu[0],\n",
    "    'cl_mean_scaled': cl_mean_scaled,\n",
    "    'cl_simu70_scaled': cl_simu70_scaled,\n",
    "    'cl_simu_scaled': cl_simu_scaled,\n",
    "    'cl_std_scaled': cl_std_scaled,\n",
    "})\n",
    "\n",
    "# Guardar CSV\n",
    "df_cls_simu.to_csv(f'cl_completo_con_escala_radio{radio}.csv', index=False)\n"
   ]
  },
  {
   "cell_type": "markdown",
   "id": "490c629f",
   "metadata": {},
   "source": [
    "### Leyendo el archivo para probar"
   ]
  },
  {
   "cell_type": "code",
   "execution_count": null,
   "id": "573755b6",
   "metadata": {},
   "outputs": [],
   "source": [
    "\n",
    "df_cls_simu = pd.read_csv('cl_completo_con_escala_radio70.csv')  \n"
   ]
  },
  {
   "cell_type": "code",
   "execution_count": null,
   "id": "c44cab52",
   "metadata": {},
   "outputs": [],
   "source": [
    "df_cls_simu"
   ]
  }
 ],
 "metadata": {
  "kernelspec": {
   "display_name": "py310",
   "language": "python",
   "name": "python3"
  },
  "language_info": {
   "codemirror_mode": {
    "name": "ipython",
    "version": 3
   },
   "file_extension": ".py",
   "mimetype": "text/x-python",
   "name": "python",
   "nbconvert_exporter": "python",
   "pygments_lexer": "ipython3",
   "version": "3.10.8"
  }
 },
 "nbformat": 4,
 "nbformat_minor": 5
}
